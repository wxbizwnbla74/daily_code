{
 "cells": [
  {
   "cell_type": "code",
   "execution_count": 1,
   "id": "ded16269",
   "metadata": {},
   "outputs": [],
   "source": [
    "import numpy as np\n",
    "import pandas as pd"
   ]
  },
  {
   "cell_type": "code",
   "execution_count": 3,
   "id": "89ad48e5",
   "metadata": {},
   "outputs": [
    {
     "name": "stdout",
     "output_type": "stream",
     "text": [
      "Index(['Unnamed: 0', 'action_type', 'combined_shot_type', 'game_event_id',\n",
      "       'game_id', 'lat', 'loc_x', 'loc_y', 'lon', 'minutes_remaining',\n",
      "       'period', 'playoffs', 'season', 'seconds_remaining', 'shot_distance',\n",
      "       'shot_made_flag', 'shot_type', 'shot_zone_area', 'shot_zone_basic',\n",
      "       'shot_zone_range', 'team_id', 'team_name', 'game_date', 'matchup',\n",
      "       'opponent', 'shot_id'],\n",
      "      dtype='object')\n"
     ]
    }
   ],
   "source": [
    "train_data = pd.read_csv('./kobe/train.csv')\n",
    "print(train_data.keys())"
   ]
  },
  {
   "cell_type": "code",
   "execution_count": 8,
   "id": "00910f37",
   "metadata": {},
   "outputs": [
    {
     "name": "stdout",
     "output_type": "stream",
     "text": [
      "0                 Jump Shot\n",
      "1                 Jump Shot\n",
      "2                 Jump Shot\n",
      "3         Driving Dunk Shot\n",
      "4                 Jump Shot\n",
      "                ...        \n",
      "25692    Driving Layup Shot\n",
      "25693             Jump Shot\n",
      "25694     Running Jump Shot\n",
      "25695             Jump Shot\n",
      "25696             Jump Shot\n",
      "Name: action_type, Length: 25697, dtype: object\n"
     ]
    }
   ],
   "source": [
    "print(train_data['action_type'])"
   ]
  },
  {
   "cell_type": "code",
   "execution_count": 12,
   "id": "fc5c0841",
   "metadata": {},
   "outputs": [],
   "source": [
    "df2 = t\n",
    "df2 = train_data.combined_shot_type.value_counts()\n",
    "df2.to_csv('./kobe/combined_shot_type.csv')"
   ]
  },
  {
   "cell_type": "code",
   "execution_count": null,
   "id": "253b439b",
   "metadata": {},
   "outputs": [],
   "source": []
  }
 ],
 "metadata": {
  "kernelspec": {
   "display_name": "Python 3",
   "language": "python",
   "name": "python3"
  },
  "language_info": {
   "codemirror_mode": {
    "name": "ipython",
    "version": 3
   },
   "file_extension": ".py",
   "mimetype": "text/x-python",
   "name": "python",
   "nbconvert_exporter": "python",
   "pygments_lexer": "ipython3",
   "version": "3.6.13"
  }
 },
 "nbformat": 4,
 "nbformat_minor": 5
}
